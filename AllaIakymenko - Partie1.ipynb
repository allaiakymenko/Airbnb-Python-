{
 "cells": [
  {
   "cell_type": "markdown",
   "metadata": {},
   "source": [
    "### Airbnb Partie 1 - Solutionnaire"
   ]
  },
  {
   "cell_type": "markdown",
   "metadata": {},
   "source": [
    "Nom : Alla Iakymenko"
   ]
  },
  {
   "cell_type": "markdown",
   "metadata": {},
   "source": [
    "Matricule : 11308140 "
   ]
  },
  {
   "cell_type": "markdown",
   "metadata": {},
   "source": [
    "## Importation\n",
    "Utilisez cette section pour importer la ou les librairies pertinentes et lire le fichier."
   ]
  },
  {
   "cell_type": "code",
   "execution_count": 57,
   "metadata": {
    "scrolled": false
   },
   "outputs": [
    {
     "data": {
      "text/html": [
       "<div>\n",
       "<style scoped>\n",
       "    .dataframe tbody tr th:only-of-type {\n",
       "        vertical-align: middle;\n",
       "    }\n",
       "\n",
       "    .dataframe tbody tr th {\n",
       "        vertical-align: top;\n",
       "    }\n",
       "\n",
       "    .dataframe thead th {\n",
       "        text-align: right;\n",
       "    }\n",
       "</style>\n",
       "<table border=\"1\" class=\"dataframe\">\n",
       "  <thead>\n",
       "    <tr style=\"text-align: right;\">\n",
       "      <th></th>\n",
       "      <th>ID</th>\n",
       "      <th>Nom</th>\n",
       "      <th>ID proprio</th>\n",
       "      <th>Nom proprio</th>\n",
       "      <th>Arrondissement</th>\n",
       "      <th>Quartier</th>\n",
       "      <th>Latitude</th>\n",
       "      <th>Longitude</th>\n",
       "      <th>Type</th>\n",
       "      <th>Prix</th>\n",
       "      <th>Minimum nuits</th>\n",
       "      <th>Nombre avis</th>\n",
       "      <th>Dernier avis</th>\n",
       "      <th>Avis par mois</th>\n",
       "      <th>Affichages proprio</th>\n",
       "      <th>Jours disponibles annuel</th>\n",
       "    </tr>\n",
       "  </thead>\n",
       "  <tbody>\n",
       "    <tr>\n",
       "      <th>0</th>\n",
       "      <td>2539</td>\n",
       "      <td>Clean &amp; quiet apt home by the park</td>\n",
       "      <td>2787</td>\n",
       "      <td>John</td>\n",
       "      <td>Brooklyn</td>\n",
       "      <td>Kensington</td>\n",
       "      <td>40.64749</td>\n",
       "      <td>-73.97237</td>\n",
       "      <td>Private room</td>\n",
       "      <td>149</td>\n",
       "      <td>1.0</td>\n",
       "      <td>9</td>\n",
       "      <td>2021-10-19</td>\n",
       "      <td>0.21</td>\n",
       "      <td>6.0</td>\n",
       "      <td>365.0</td>\n",
       "    </tr>\n",
       "    <tr>\n",
       "      <th>1</th>\n",
       "      <td>2595</td>\n",
       "      <td>Skylit Midtown Castle</td>\n",
       "      <td>2845</td>\n",
       "      <td>Jennifer</td>\n",
       "      <td>Manhattan</td>\n",
       "      <td>Midtown</td>\n",
       "      <td>40.75362</td>\n",
       "      <td>-73.98377</td>\n",
       "      <td>Entire home/apt</td>\n",
       "      <td>225</td>\n",
       "      <td>1.0</td>\n",
       "      <td>45</td>\n",
       "      <td>2022-05-21</td>\n",
       "      <td>0.38</td>\n",
       "      <td>2.0</td>\n",
       "      <td>355.0</td>\n",
       "    </tr>\n",
       "    <tr>\n",
       "      <th>2</th>\n",
       "      <td>3647</td>\n",
       "      <td>THE VILLAGE OF HARLEM....NEW YORK !</td>\n",
       "      <td>4632</td>\n",
       "      <td>Elisabeth</td>\n",
       "      <td>Manhattan</td>\n",
       "      <td>Harlem</td>\n",
       "      <td>40.80902</td>\n",
       "      <td>-73.94190</td>\n",
       "      <td>Private room</td>\n",
       "      <td>150</td>\n",
       "      <td>3.0</td>\n",
       "      <td>0</td>\n",
       "      <td>NaN</td>\n",
       "      <td>NaN</td>\n",
       "      <td>1.0</td>\n",
       "      <td>365.0</td>\n",
       "    </tr>\n",
       "    <tr>\n",
       "      <th>3</th>\n",
       "      <td>3831</td>\n",
       "      <td>Cozy Entire Floor of Brownstone</td>\n",
       "      <td>4869</td>\n",
       "      <td>LisaRoxanne</td>\n",
       "      <td>Brooklyn</td>\n",
       "      <td>Clinton Hill</td>\n",
       "      <td>40.68514</td>\n",
       "      <td>-73.95976</td>\n",
       "      <td>Entire home/apt</td>\n",
       "      <td>89</td>\n",
       "      <td>1.0</td>\n",
       "      <td>270</td>\n",
       "      <td>2022-07-05</td>\n",
       "      <td>4.64</td>\n",
       "      <td>1.0</td>\n",
       "      <td>194.0</td>\n",
       "    </tr>\n",
       "    <tr>\n",
       "      <th>4</th>\n",
       "      <td>5022</td>\n",
       "      <td>Entire Apt: Spacious Studio/Loft by central park</td>\n",
       "      <td>7192</td>\n",
       "      <td>Laura</td>\n",
       "      <td>Manhattan</td>\n",
       "      <td>East Harlem</td>\n",
       "      <td>40.79851</td>\n",
       "      <td>-73.94399</td>\n",
       "      <td>Entire home/apt</td>\n",
       "      <td>80</td>\n",
       "      <td>10.0</td>\n",
       "      <td>9</td>\n",
       "      <td>2021-11-19</td>\n",
       "      <td>0.10</td>\n",
       "      <td>1.0</td>\n",
       "      <td>0.0</td>\n",
       "    </tr>\n",
       "    <tr>\n",
       "      <th>...</th>\n",
       "      <td>...</td>\n",
       "      <td>...</td>\n",
       "      <td>...</td>\n",
       "      <td>...</td>\n",
       "      <td>...</td>\n",
       "      <td>...</td>\n",
       "      <td>...</td>\n",
       "      <td>...</td>\n",
       "      <td>...</td>\n",
       "      <td>...</td>\n",
       "      <td>...</td>\n",
       "      <td>...</td>\n",
       "      <td>...</td>\n",
       "      <td>...</td>\n",
       "      <td>...</td>\n",
       "      <td>...</td>\n",
       "    </tr>\n",
       "    <tr>\n",
       "      <th>48890</th>\n",
       "      <td>36484665</td>\n",
       "      <td>Charming one bedroom - newly renovated rowhouse</td>\n",
       "      <td>8232441</td>\n",
       "      <td>Sabrina</td>\n",
       "      <td>Brooklyn</td>\n",
       "      <td>Bedford-Stuyvesant</td>\n",
       "      <td>40.67853</td>\n",
       "      <td>-73.94995</td>\n",
       "      <td>Private room</td>\n",
       "      <td>70</td>\n",
       "      <td>2.0</td>\n",
       "      <td>0</td>\n",
       "      <td>NaN</td>\n",
       "      <td>NaN</td>\n",
       "      <td>2.0</td>\n",
       "      <td>9.0</td>\n",
       "    </tr>\n",
       "    <tr>\n",
       "      <th>48891</th>\n",
       "      <td>36485057</td>\n",
       "      <td>Affordable room in Bushwick/East Williamsburg</td>\n",
       "      <td>6570630</td>\n",
       "      <td>Marisol</td>\n",
       "      <td>Brooklyn</td>\n",
       "      <td>Bushwick</td>\n",
       "      <td>40.70184</td>\n",
       "      <td>-73.93317</td>\n",
       "      <td>Private room</td>\n",
       "      <td>40</td>\n",
       "      <td>4.0</td>\n",
       "      <td>0</td>\n",
       "      <td>NaN</td>\n",
       "      <td>NaN</td>\n",
       "      <td>2.0</td>\n",
       "      <td>36.0</td>\n",
       "    </tr>\n",
       "    <tr>\n",
       "      <th>48892</th>\n",
       "      <td>36485431</td>\n",
       "      <td>Sunny Studio at Historical Neighborhood</td>\n",
       "      <td>23492952</td>\n",
       "      <td>Ilgar &amp; Aysel</td>\n",
       "      <td>Manhattan</td>\n",
       "      <td>Harlem</td>\n",
       "      <td>40.81475</td>\n",
       "      <td>-73.94867</td>\n",
       "      <td>Entire home/apt</td>\n",
       "      <td>115</td>\n",
       "      <td>10.0</td>\n",
       "      <td>0</td>\n",
       "      <td>NaN</td>\n",
       "      <td>NaN</td>\n",
       "      <td>1.0</td>\n",
       "      <td>27.0</td>\n",
       "    </tr>\n",
       "    <tr>\n",
       "      <th>48893</th>\n",
       "      <td>36485609</td>\n",
       "      <td>43rd St. Time Square-cozy single bed</td>\n",
       "      <td>30985759</td>\n",
       "      <td>Taz</td>\n",
       "      <td>Manhattan</td>\n",
       "      <td>Hell's Kitchen</td>\n",
       "      <td>40.75751</td>\n",
       "      <td>-73.99112</td>\n",
       "      <td>Shared room</td>\n",
       "      <td>55</td>\n",
       "      <td>1.0</td>\n",
       "      <td>0</td>\n",
       "      <td>NaN</td>\n",
       "      <td>NaN</td>\n",
       "      <td>6.0</td>\n",
       "      <td>2.0</td>\n",
       "    </tr>\n",
       "    <tr>\n",
       "      <th>48894</th>\n",
       "      <td>36487245</td>\n",
       "      <td>Trendy duplex in the very heart of Hell's Kitchen</td>\n",
       "      <td>68119814</td>\n",
       "      <td>Christophe</td>\n",
       "      <td>Manhattan</td>\n",
       "      <td>Hell's Kitchen</td>\n",
       "      <td>40.76404</td>\n",
       "      <td>-73.98933</td>\n",
       "      <td>Private room</td>\n",
       "      <td>90</td>\n",
       "      <td>7.0</td>\n",
       "      <td>0</td>\n",
       "      <td>NaN</td>\n",
       "      <td>NaN</td>\n",
       "      <td>1.0</td>\n",
       "      <td>23.0</td>\n",
       "    </tr>\n",
       "  </tbody>\n",
       "</table>\n",
       "<p>48895 rows × 16 columns</p>\n",
       "</div>"
      ],
      "text/plain": [
       "             ID                                                Nom  \\\n",
       "0          2539                 Clean & quiet apt home by the park   \n",
       "1          2595                              Skylit Midtown Castle   \n",
       "2          3647                THE VILLAGE OF HARLEM....NEW YORK !   \n",
       "3          3831                    Cozy Entire Floor of Brownstone   \n",
       "4          5022   Entire Apt: Spacious Studio/Loft by central park   \n",
       "...         ...                                                ...   \n",
       "48890  36484665    Charming one bedroom - newly renovated rowhouse   \n",
       "48891  36485057      Affordable room in Bushwick/East Williamsburg   \n",
       "48892  36485431            Sunny Studio at Historical Neighborhood   \n",
       "48893  36485609               43rd St. Time Square-cozy single bed   \n",
       "48894  36487245  Trendy duplex in the very heart of Hell's Kitchen   \n",
       "\n",
       "       ID proprio    Nom proprio Arrondissement            Quartier  Latitude  \\\n",
       "0            2787           John       Brooklyn          Kensington  40.64749   \n",
       "1            2845       Jennifer      Manhattan             Midtown  40.75362   \n",
       "2            4632      Elisabeth      Manhattan              Harlem  40.80902   \n",
       "3            4869    LisaRoxanne       Brooklyn        Clinton Hill  40.68514   \n",
       "4            7192          Laura      Manhattan         East Harlem  40.79851   \n",
       "...           ...            ...            ...                 ...       ...   \n",
       "48890     8232441        Sabrina       Brooklyn  Bedford-Stuyvesant  40.67853   \n",
       "48891     6570630        Marisol       Brooklyn            Bushwick  40.70184   \n",
       "48892    23492952  Ilgar & Aysel      Manhattan              Harlem  40.81475   \n",
       "48893    30985759            Taz      Manhattan      Hell's Kitchen  40.75751   \n",
       "48894    68119814     Christophe      Manhattan      Hell's Kitchen  40.76404   \n",
       "\n",
       "       Longitude             Type  Prix  Minimum nuits  Nombre avis  \\\n",
       "0      -73.97237     Private room   149            1.0            9   \n",
       "1      -73.98377  Entire home/apt   225            1.0           45   \n",
       "2      -73.94190     Private room   150            3.0            0   \n",
       "3      -73.95976  Entire home/apt    89            1.0          270   \n",
       "4      -73.94399  Entire home/apt    80           10.0            9   \n",
       "...          ...              ...   ...            ...          ...   \n",
       "48890  -73.94995     Private room    70            2.0            0   \n",
       "48891  -73.93317     Private room    40            4.0            0   \n",
       "48892  -73.94867  Entire home/apt   115           10.0            0   \n",
       "48893  -73.99112      Shared room    55            1.0            0   \n",
       "48894  -73.98933     Private room    90            7.0            0   \n",
       "\n",
       "      Dernier avis  Avis par mois  Affichages proprio  \\\n",
       "0       2021-10-19           0.21                 6.0   \n",
       "1       2022-05-21           0.38                 2.0   \n",
       "2              NaN            NaN                 1.0   \n",
       "3       2022-07-05           4.64                 1.0   \n",
       "4       2021-11-19           0.10                 1.0   \n",
       "...            ...            ...                 ...   \n",
       "48890          NaN            NaN                 2.0   \n",
       "48891          NaN            NaN                 2.0   \n",
       "48892          NaN            NaN                 1.0   \n",
       "48893          NaN            NaN                 6.0   \n",
       "48894          NaN            NaN                 1.0   \n",
       "\n",
       "       Jours disponibles annuel  \n",
       "0                         365.0  \n",
       "1                         355.0  \n",
       "2                         365.0  \n",
       "3                         194.0  \n",
       "4                           0.0  \n",
       "...                         ...  \n",
       "48890                       9.0  \n",
       "48891                      36.0  \n",
       "48892                      27.0  \n",
       "48893                       2.0  \n",
       "48894                      23.0  \n",
       "\n",
       "[48895 rows x 16 columns]"
      ]
     },
     "execution_count": 57,
     "metadata": {},
     "output_type": "execute_result"
    }
   ],
   "source": [
    "import pandas as pd\n",
    "import numpy as np\n",
    "Airbnb b= pd.read_csv(\"./fichiers/Airbnb.csv\", sep = \",\")\n",
    "Airbnb\n"
   ]
  },
  {
   "cell_type": "code",
   "execution_count": 71,
   "metadata": {},
   "outputs": [
    {
     "data": {
      "text/plain": [
       "array([     2787,      2845,      4632, ..., 274321313,  23492952,\n",
       "        68119814], dtype=int64)"
      ]
     },
     "execution_count": 71,
     "metadata": {},
     "output_type": "execute_result"
    }
   ],
   "source": [
    "Airbnb[\"ID proprio\"].unique()"
   ]
  },
  {
   "cell_type": "markdown",
   "metadata": {},
   "source": [
    "### Question 1 : Quel est l'ID proprio de la 500e location affichée dans la liste?\n",
    "Par exemple, l'ID proprio de la 1ere location affichée dans la liste est 2787."
   ]
  },
  {
   "cell_type": "code",
   "execution_count": 58,
   "metadata": {},
   "outputs": [
    {
     "data": {
      "text/plain": [
       "846309"
      ]
     },
     "execution_count": 58,
     "metadata": {},
     "output_type": "execute_result"
    }
   ],
   "source": [
    "location500e = Airbnb.iloc[499,2 ]\n",
    "location500e\n",
    "\n",
    "#Reponse:  l'ID proprio de la 500e location affichée dans la liste est 846309."
   ]
  },
  {
   "cell_type": "markdown",
   "metadata": {},
   "source": [
    "### Question 2 : Quel est le nom de propriétaire de location qui apparaît le plus souvent?"
   ]
  },
  {
   "cell_type": "code",
   "execution_count": 59,
   "metadata": {
    "scrolled": true
   },
   "outputs": [
    {
     "data": {
      "text/plain": [
       "ID    417\n",
       "Name: Michael, dtype: int64"
      ]
     },
     "execution_count": 59,
     "metadata": {},
     "output_type": "execute_result"
    }
   ],
   "source": [
    "Question2 = Airbnb.pivot_table(values = \"ID\", index = \"Nom proprio\", aggfunc = \"count\", fill_value = 0 )\n",
    "Question2.sort_values([\"ID\"],ascending=False).iloc[0]\n",
    "#Le nom de propriétaire de location qui apparaît le plus souvent - Michael."
   ]
  },
  {
   "cell_type": "markdown",
   "metadata": {},
   "source": [
    "### Question 3 : Quel est le prix médian des locations à Manhattan?"
   ]
  },
  {
   "cell_type": "code",
   "execution_count": 60,
   "metadata": {},
   "outputs": [
    {
     "data": {
      "text/plain": [
       "150.0"
      ]
     },
     "execution_count": 60,
     "metadata": {},
     "output_type": "execute_result"
    }
   ],
   "source": [
    "Question3 = Airbnb.loc[Airbnb[\"Arrondissement\"] == \"Manhattan\",[\"Prix\",\"Arrondissement\"]][\"Prix\"].median()\n",
    "Question3\n",
    "#Reponse: le prix médian des locations à Manhattan est 150."
   ]
  },
  {
   "cell_type": "markdown",
   "metadata": {},
   "source": [
    "### Question 4 : Combien de locations nécessitent une réservation minimum d'exactement 365 nuits?"
   ]
  },
  {
   "cell_type": "code",
   "execution_count": 61,
   "metadata": {
    "scrolled": true
   },
   "outputs": [
    {
     "data": {
      "text/plain": [
       "29"
      ]
     },
     "execution_count": 61,
     "metadata": {},
     "output_type": "execute_result"
    }
   ],
   "source": [
    "Question4 =(Airbnb.loc[Airbnb[\"Minimum nuits\"]== 365, :])[\"ID\"].count()\n",
    "Question4\n",
    "#Reponse: 29 de locations nécessitent une réservation minimum d'exactement 365 nuits."
   ]
  },
  {
   "cell_type": "markdown",
   "metadata": {},
   "source": [
    "### Question 5 : Combien y a-t-il de locations où le nom du propriétaire est manquant?"
   ]
  },
  {
   "cell_type": "code",
   "execution_count": 62,
   "metadata": {},
   "outputs": [
    {
     "data": {
      "text/plain": [
       "21"
      ]
     },
     "execution_count": 62,
     "metadata": {},
     "output_type": "execute_result"
    }
   ],
   "source": [
    "Question5 = Airbnb[Airbnb[\"Nom proprio\"].isnull()][\"ID\"].count()\n",
    "Question5\n",
    "#Reponse: 21 de locations où le nom du propriétaire est manquant."
   ]
  },
  {
   "cell_type": "markdown",
   "metadata": {},
   "source": [
    "### Question 6 : Dans quel arrondissement le quartier avec le plus grand nombre d'avis se trouve-t-il?"
   ]
  },
  {
   "cell_type": "code",
   "execution_count": 67,
   "metadata": {},
   "outputs": [
    {
     "data": {
      "text/plain": [
       "Type\n",
       "Entire home/apt    211.785654\n",
       "Private room        89.816115\n",
       "Shared room         70.412740\n",
       "Name: Prix, dtype: float64"
      ]
     },
     "execution_count": 67,
     "metadata": {},
     "output_type": "execute_result"
    }
   ],
   "source": [
    "Airbnb.groupby(\"Type\").mean()[\"Prix\"]#[\"Private room\"]"
   ]
  },
  {
   "cell_type": "code",
   "execution_count": null,
   "metadata": {
    "scrolled": false
   },
   "outputs": [],
   "source": [
    "#metod 1\n",
    "Airbnb.groupby([\"Arrondissement\", \"Quartier\"]).sum().sort_values(\"Nombre avis\", ascending = False)[\"Nombre avis\"].iloc[0:].index[0][0]"
   ]
  },
  {
   "cell_type": "code",
   "execution_count": null,
   "metadata": {},
   "outputs": [],
   "source": [
    "#metod 2\n",
    "test6 = Airbnb.pivot_table(values = \"Nombre avis\", index = [\"Arrondissement\",\"Quartier\"],aggfunc = \"sum\", fill_value = 0).sort_values(\"Nombre avis\", ascending = False)\n",
    "arrondissement = test6.iloc[0].name[0]\n",
    "arrondissement"
   ]
  },
  {
   "cell_type": "code",
   "execution_count": null,
   "metadata": {
    "scrolled": false
   },
   "outputs": [],
   "source": [
    "#metod3 \n",
    "Question6 = Airbnb.groupby([\"Arrondissement\", \"Quartier\"]).sum()[\"Nombre avis\"]\n",
    "Question6"
   ]
  },
  {
   "cell_type": "code",
   "execution_count": null,
   "metadata": {
    "scrolled": false
   },
   "outputs": [],
   "source": [
    "#metod3 continue\n",
    "Question6[Question6 == Question6.max()]"
   ]
  },
  {
   "cell_type": "markdown",
   "metadata": {},
   "source": [
    "### Question 7 : Quel est le prix moyen par type de résidence?"
   ]
  },
  {
   "cell_type": "code",
   "execution_count": null,
   "metadata": {
    "scrolled": true
   },
   "outputs": [],
   "source": [
    "Question7 = Airbnb.pivot_table(values =\"Prix\", index = \"Type\", aggfunc =\"mean\", fill_value = 0)\n",
    "Question7"
   ]
  },
  {
   "cell_type": "markdown",
   "metadata": {},
   "source": [
    "### Question 8 : Quels sont les 3 quartiers les moins chers en moyenne?"
   ]
  },
  {
   "cell_type": "code",
   "execution_count": null,
   "metadata": {},
   "outputs": [],
   "source": [
    "Question8 = Airbnb.pivot_table(values = \"Prix\", index = \"Quartier\", aggfunc = \"mean\").sort_values(\"Prix\").iloc[0:3, 0]\n",
    "Question8"
   ]
  },
  {
   "cell_type": "markdown",
   "metadata": {},
   "source": [
    "### Question 9 : Quel est le prix moyen des locations ayant reçu plus de 100 avis et se trouvant à Brooklyn?"
   ]
  },
  {
   "cell_type": "code",
   "execution_count": null,
   "metadata": {},
   "outputs": [],
   "source": [
    "#correct\n",
    "Question9 = Airbnb[(Airbnb[\"Arrondissement\"] == \"Brooklyn\") & (Airbnb[\"Nombre avis\"] >= 100)][\"Prix\"].mean()\n",
    "Question9 = round(Question9,2)\n",
    "print(\"Le prix moyen des locations ayant reçu plus de 100 avis et se trouvant à Brooklyn est {}.\".format(Question9))"
   ]
  },
  {
   "cell_type": "markdown",
   "metadata": {},
   "source": [
    "### Question 10 : Quelle proportion de l'ensemble des locations provient de la combinaison des 10 propriétaires ayant le plus grand nombre de locations?\n",
    "Cette question signifie que la réponse doit être une seule valeur et non pas dix valeurs."
   ]
  },
  {
   "cell_type": "code",
   "execution_count": null,
   "metadata": {
    "scrolled": true
   },
   "outputs": [],
   "source": [
    "Question10 = Airbnb.pivot_table(values = \"ID\", index =\"ID proprio\", aggfunc = \"count\")\n",
    "Question10"
   ]
  },
  {
   "cell_type": "code",
   "execution_count": null,
   "metadata": {
    "scrolled": true
   },
   "outputs": [],
   "source": [
    "proprio_10 = Question10.sort_values(\"ID\", ascending = False).iloc[0:10].sum()\n",
    "proprio_10"
   ]
  },
  {
   "cell_type": "code",
   "execution_count": null,
   "metadata": {},
   "outputs": [],
   "source": [
    "proprio_total= Question10.sort_values(\"ID\").sum()\n",
    "proprio_total"
   ]
  },
  {
   "cell_type": "code",
   "execution_count": null,
   "metadata": {},
   "outputs": [],
   "source": [
    "proprio_10_proportion = proprio_10/proprio_total*100\n",
    "proprio_10_proportion = round(proprio_10_proportion[0],2)\n",
    "print(\"La proportion de l'ensemble des locations provient de la combinaison des 10 propriétaires ayant le plus grand nombre de locations est {}%.\".format(proprio_10_proportion)) "
   ]
  },
  {
   "cell_type": "markdown",
   "metadata": {},
   "source": [
    "### Question 11 : Dans quel arrondissement trouve-t-on le plus haut taux de locations du type \"Shared room\"? Quel est ce taux?"
   ]
  },
  {
   "cell_type": "code",
   "execution_count": null,
   "metadata": {
    "scrolled": true
   },
   "outputs": [],
   "source": [
    "Question11 = Airbnb.pivot_table(values = \"Prix\", index = \"Type\", columns = \"Arrondissement\", aggfunc = \"count\")\n",
    "Question11"
   ]
  },
  {
   "cell_type": "code",
   "execution_count": null,
   "metadata": {},
   "outputs": [],
   "source": [
    "# Calculer la proportion des locations de type \"Shared room\" et les trier par ordre décroissant\n",
    "taux_de_locations = Question11.loc[\"Shared room\"] / Question11.sum(axis=0)\n",
    "taux_de_loc_shared_room = taux_de_locations.sort_values(ascending=False)\n",
    "# Trouver l'arrondissement avec le taux le plus élevé de locations de type \"Shared room\"\n",
    "arrondissement_max = taux_de_loc_shared_room.idxmax()\n",
    "\n",
    "print(\"L'arrondissement avec le taux le plus élevé de locations de type 'Shared room' est l'arrondissement {}.\".format(arrondissement_max))\n",
    "# Récupérer la proportion la plus élevée de locations de type \"Shared room\"\n",
    "proportion_la_plus_elevee = taux_de_loc_shared_room.iloc[0]\n",
    "\n",
    "print(\"La proportion la plus élevée de locations de type 'Shared room' est de {:.2%}\".format(proportion_la_plus_elevee))"
   ]
  },
  {
   "cell_type": "markdown",
   "metadata": {},
   "source": [
    "### Question 12 : Deux colonnes en particulier contiennent exactement 10 052  valeurs manquantes. Quelle est la raison concrète qui explique ces valeurs manquantes? Démontrez votre affirmation."
   ]
  },
  {
   "cell_type": "code",
   "execution_count": null,
   "metadata": {},
   "outputs": [],
   "source": [
    "Airbnb[\"Dernier avis\"].isnull().sum()"
   ]
  },
  {
   "cell_type": "code",
   "execution_count": null,
   "metadata": {},
   "outputs": [],
   "source": [
    "# Afficher le nombre total de valeurs manquantes dans chaque colonne\n",
    "print(Airbnb.isnull().sum())"
   ]
  },
  {
   "cell_type": "code",
   "execution_count": null,
   "metadata": {},
   "outputs": [],
   "source": [
    "# Créer un nouveau DataFrame contenant uniquement les locations avec 0 commentaires\n",
    "locations_sans_avis = Airbnb[Airbnb[\"Nombre avis\"] == 0]\n",
    "\n",
    "# Afficher le nombre de valeurs manquantes dans les colonnes de ce nouveau DataFrame\n",
    "print(locations_sans_avis.isnull().sum())"
   ]
  },
  {
   "cell_type": "markdown",
   "metadata": {},
   "source": [
    "### Question 13 : Quel est le prix moyen des locations par arrondissement et par catégorie de nombre d'avis?\n",
    "On considère les catégories de nombre d'avis suivantes :\n",
    "- Catégorie 1 : une location avec moins de 100 avis\n",
    "- Catégorie 2 : une location avec 100 à 200 avis\n",
    "- Catégorie 3 : une location avec plus de 200 avis"
   ]
  },
  {
   "cell_type": "code",
   "execution_count": null,
   "metadata": {},
   "outputs": [],
   "source": [
    "Airbnb.loc[Airbnb[\"Nombre avis\"]< 100, \"Catégorie\"] = \"Catégorie 1\"\n",
    "Airbnb.loc[(Airbnb[\"Nombre avis\"]>= 100) & (Airbnb[\"Nombre avis\"]<=200), \"Catégorie\"] = \"Catégorie 2\"\n",
    "Airbnb.loc[Airbnb[\"Nombre avis\"]> 200, \"Catégorie\"] = \"Catégorie 3\""
   ]
  },
  {
   "cell_type": "code",
   "execution_count": null,
   "metadata": {},
   "outputs": [],
   "source": [
    "Airbnb.pivot_table(values = \"Prix\", index = \"Arrondissement\", columns = \"Catégorie\", aggfunc = \"mean\")"
   ]
  },
  {
   "cell_type": "markdown",
   "metadata": {},
   "source": [
    "### Question 14 : Quel arrondissement possède la plus forte proportion de locations étant affichées depuis moins d'un an ?"
   ]
  },
  {
   "cell_type": "code",
   "execution_count": null,
   "metadata": {},
   "outputs": [],
   "source": [
    "# Convertir la colonne de date d'affichage en datetime\n",
    "\n",
    "Airbnb[\"Dernier avis\"] = pd.to_datetime(Airbnb[\"Dernier avis\"])"
   ]
  },
  {
   "cell_type": "code",
   "execution_count": null,
   "metadata": {
    "scrolled": true
   },
   "outputs": [],
   "source": [
    "#Pour comprendre le type de données\n",
    "Airbnb.dtypes"
   ]
  },
  {
   "cell_type": "code",
   "execution_count": null,
   "metadata": {},
   "outputs": [],
   "source": [
    "import numpy as np\n",
    "import pandas as pd\n",
    "\n",
    "# Calculer la date d'un an avant aujourd'hui\n",
    "date_un_an_avant = pd.Timestamp.now() - pd.Timedelta(days=365)\n",
    "\n",
    "# Sélectionner les locations affichées depuis moins d'un an\n",
    "locations_recentes = Airbnb[Airbnb[\"Dernier avis\"] > date_un_an_avant]\n",
    "\n",
    "# Compter le nombre de locations récentes par arrondissement\n",
    "locations_recentes_par_arrondissement = locations_recentes.groupby(\"Arrondissement\").size()\n",
    "\n",
    "# Calculer la proportion de locations récentes par arrondissement\n",
    "proportion_locations_recentes_par_arrondissement = locations_recentes_par_arrondissement / Airbnb.groupby(\"Arrondissement\").size()\n",
    "\n",
    "# Trouver l'arrondissement avec la plus forte proportion de locations récentes\n",
    "arrondissement_plus_fort = proportion_locations_recentes_par_arrondissement.sort_values(ascending = False).idxmax()\n",
    "\n",
    "# Afficher le résultat\n",
    "print(\"L'arrondissement avec la plus forte proportion de locations récentes étant affichées depuis moins d'un an est :   \", arrondissement_plus_fort)"
   ]
  },
  {
   "cell_type": "code",
   "execution_count": null,
   "metadata": {},
   "outputs": [],
   "source": [
    "pd.Timestamp.now().date()"
   ]
  },
  {
   "cell_type": "code",
   "execution_count": null,
   "metadata": {
    "scrolled": true
   },
   "outputs": [],
   "source": [
    "proportion_locations_recentes_par_arrondissement"
   ]
  },
  {
   "cell_type": "code",
   "execution_count": null,
   "metadata": {},
   "outputs": [],
   "source": [
    "df_sansna = Airbnb.dropna().copy()\n",
    "df_sansna[\"Mois\"] = df_sansna[\"Nombre avis\"]/df_sansna[\"Avis par mois\"]\n",
    "df_sansna[df_sansna[\"Mois\"]<12].groupby(\"Arrondissement\").count()[\"ID\"]"
   ]
  },
  {
   "cell_type": "code",
   "execution_count": null,
   "metadata": {
    "scrolled": true
   },
   "outputs": [],
   "source": [
    "df_sansna.groupby(\"Arrondissement\").count()[\"ID\"]"
   ]
  },
  {
   "cell_type": "code",
   "execution_count": null,
   "metadata": {
    "scrolled": true
   },
   "outputs": [],
   "source": [
    "df_sansna[\"Mois\"].value_counts()"
   ]
  },
  {
   "cell_type": "code",
   "execution_count": null,
   "metadata": {},
   "outputs": [],
   "source": [
    "Q_14 = df_sansna[df_sansna[\"Mois\"]<12].groupby(\"Arrondissement\").count()[\"ID\"]/df_sansna.groupby(\"Arrondissement\").count()[\"ID\"]\n",
    "Q_14[1]\n",
    "Q_14[Q_14 == 0.2941137478456847]"
   ]
  },
  {
   "cell_type": "markdown",
   "metadata": {},
   "source": [
    "### Question 15 : Quels sont les 5 mots différents qui se retrouvent le plus souvent dans les noms des locations?\n",
    "La réponse ne devrait pas dépendre de l'utilisation des lettres majuscules ou minuscules. Par exemple, les mots \"Location\" et \"location\" sont les mêmes."
   ]
  },
  {
   "cell_type": "code",
   "execution_count": null,
   "metadata": {},
   "outputs": [],
   "source": [
    "locations = list(Airbnb[\"Nom\"].fillna(\"\").tolist())\n",
    "locations\n",
    "type(locations)\n",
    "\n",
    "# Supposons que la liste de noms de location est stockée dans la variable `lieux`\n",
    "# Définir une liste vide pour stocker tous les mots individuels\n",
    "mots = []\n",
    "\n",
    "# Collecter tous les mots de chaque nom de lieu\n",
    "for location in locations:\n",
    "    mots += location.lower().split()\n",
    "\n",
    "# Compter le nombre d'occurrences de chaque mot\n",
    "occurrences = {}\n",
    "for mot in mots:\n",
    "    if mot in occurrences:\n",
    "        occurrences[mot] += 1\n",
    "    else:\n",
    "        occurrences[mot] = 1\n",
    "\n",
    "# Trier les mots par ordre décroissant de nombre d'occurrences\n",
    "mots_tries = sorted(occurrences, key=occurrences.get, reverse=True)\n",
    "\n",
    "# Sélectionner les 5 premiers mots de la liste triée\n",
    "cinq_mots = mots_tries[:5]\n",
    "\n",
    "# Afficher les résultats\n",
    "\n",
    "print(\"Les 5 mots les plus courants dans les noms de lieu sont :\")\n",
    "for mot in cinq_mots:\n",
    "    print(f\"{mot} ({occurrences[mot]} occurrences)\")"
   ]
  }
 ],
 "metadata": {
  "kernelspec": {
   "display_name": "Python 3 (ipykernel)",
   "language": "python",
   "name": "python3"
  },
  "language_info": {
   "codemirror_mode": {
    "name": "ipython",
    "version": 3
   },
   "file_extension": ".py",
   "mimetype": "text/x-python",
   "name": "python",
   "nbconvert_exporter": "python",
   "pygments_lexer": "ipython3",
   "version": "3.9.13"
  }
 },
 "nbformat": 4,
 "nbformat_minor": 4
}
